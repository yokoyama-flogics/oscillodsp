{
 "cells": [
  {
   "cell_type": "markdown",
   "metadata": {},
   "source": [
    "# OscilloDSP\n",
    "\n",
    "Copyright (c) 2020, 2021, Chubu University and Firmlogics\n",
    "\n",
    "All rights reserved.\n",
    "\n",
    "## ドキュメント\n",
    "\n",
    "[インストール方法](installation.ipynb)、[使い方](usage.ipynb) については、それぞれのリンクを参照してください。\n",
    "TI Code Composer Studio での、デモアプリの動かし方は、[こちら](ccs_build.ipynb)を参照してください。\n",
    "\n",
    "## メモ\n",
    "\n",
    "- うまくグラフが表示されないときは、Jupyter Notebook を再起動すると直ることがあります。"
   ]
  },
  {
   "cell_type": "markdown",
   "metadata": {},
   "source": [
    "## Jupyter セルの自動スクロールを停止\n",
    "\n",
    "参考: https://stackoverflow.com/questions/36757301/disable-ipython-notebook-autoscrolling"
   ]
  },
  {
   "cell_type": "code",
   "execution_count": null,
   "metadata": {},
   "outputs": [],
   "source": [
    "%%javascript\n",
    "IPython.OutputArea.prototype._should_scroll = function(lines) {\n",
    "    return false;\n",
    "}"
   ]
  },
  {
   "cell_type": "markdown",
   "metadata": {},
   "source": [
    "## OscilloDSP モジュールのロードと定数の定義\n",
    "\n",
    "- ```UART_DEVICE```: UART デバイス名\n",
    "- ```UART_BITRATE```: UART 通信速度\n",
    "\n",
    "実際の DSP ボードに接続せずに、PC 上で DSP 側の機能をシミュレーションすることができます。\n",
    "その機能を使う場合には、以下の ```USE_PCSIM``` を```True```にしてください。\n",
    "この機能は、Linux と Mac OS 上で確認済みです。\n",
    "\n",
    "```USE_PCSIM``` が ```True``` の場合、```UART_DEVICE``` と ```UART_BITRATE``` は、\n",
    "後半のセル「PC シミュレータの起動」下の Python コードで上書きされます。"
   ]
  },
  {
   "cell_type": "code",
   "execution_count": null,
   "metadata": {
    "scrolled": false
   },
   "outputs": [],
   "source": [
    "%matplotlib widget\n",
    "from oscillodsp import oscillo\n",
    "from oscillodsp import utils\n",
    "\n",
    "USE_PCSIM = False  # When using DSP simulator on PC (Linux only)\n",
    "\n",
    "# UART_DEVICE = \"ftdi://ftdi:0xa6d0:TIU72PWC/2\"  # Linux\n",
    "# UART_DEVICE = \"ftdi://ftdi:0xa6d0:TIU72PWC/2\"  # Mac OS\n",
    "# UART_DEVICE = \"ftdi://ftdi:232:FTGYDM6A/1\"  # Mac OS (TTL232R-3V3)\n",
    "UART_DEVICE = \"ftdi://ftdi:0xa6d0:TIU72PWC/2\"  # Windows\n",
    "\n",
    "UART_BITRATE = 2000000\n",
    "# UART_BITRATE = 115200"
   ]
  },
  {
   "cell_type": "markdown",
   "metadata": {},
   "source": [
    "## バージョンのチェック\n",
    "\n",
    "動作確認済みバージョンについては、[こちら](checked_versions.ipynb)を参照してください。"
   ]
  },
  {
   "cell_type": "code",
   "execution_count": null,
   "metadata": {},
   "outputs": [],
   "source": [
    "oscillo.show_module_versions([\n",
    "    \"notebook\",\n",
    "    \"matplotlib\",\n",
    "    \"ipywidgets\",\n",
    "    \"ipympl\",\n",
    "    \"serial\",\n",
    "    \"pyftdi\",\n",
    "])"
   ]
  },
  {
   "cell_type": "markdown",
   "metadata": {},
   "source": [
    "## PC シミュレータの起動"
   ]
  },
  {
   "cell_type": "code",
   "execution_count": null,
   "metadata": {},
   "outputs": [],
   "source": [
    "if USE_PCSIM:\n",
    "    UART_DEVICE = utils.run_pcsim(\"../pcsim/pcsim\")\n",
    "    UART_BITRATE = 115200\n",
    "    \n",
    "# When you need debug pcsim by GDB, run pcsim separately, and run below.\n",
    "# UART_DEVICE = open(\"../pcsim/ptyname.txt\").read()\n",
    "# UART_BITRATE = 115200"
   ]
  },
  {
   "cell_type": "markdown",
   "metadata": {},
   "source": [
    "## オシロのセットアップ\n",
    "\n",
    "- ```loglevel```と```dsp_loglevel```で、ログ表示レベルを設定できます。\n",
    "  ログは jupyter を起動したシェル（Windows では cmd.exe）の画面に表示されます。\n",
    "  ログレベルについては、\n",
    "  [ここ](https://docs.python.org/3/library/logging.html#logging-levels)\n",
    "  を参考にしてください。"
   ]
  },
  {
   "cell_type": "code",
   "execution_count": null,
   "metadata": {},
   "outputs": [],
   "source": [
    "import logging\n",
    "\n",
    "osc = oscillo.Oscillo(\n",
    "    dsp_tty=UART_DEVICE,\n",
    "    dsp_bitrate=UART_BITRATE,\n",
    "    quantize_bits=8,  # reduced for smaller traffic from DSP\n",
    "    loglevel=logging.INFO,\n",
    "    dsp_loglevel=logging.INFO)\n",
    "\n",
    "osc  # Need to evaluate 'osc' here.  Otherwise, screen doesn't show up"
   ]
  },
  {
   "cell_type": "markdown",
   "metadata": {},
   "source": [
    "## オシロのスタート\n",
    "\n",
    "最初にオシロを動かすには、以下の関数を実行します。"
   ]
  },
  {
   "cell_type": "code",
   "execution_count": null,
   "metadata": {},
   "outputs": [],
   "source": [
    "osc.start()"
   ]
  },
  {
   "cell_type": "markdown",
   "metadata": {},
   "source": [
    "## チャネル表示のオンオフ"
   ]
  },
  {
   "cell_type": "code",
   "execution_count": null,
   "metadata": {},
   "outputs": [],
   "source": [
    "osc.view_enabled_ch[0] = True\n",
    "osc.view_enabled_ch[1] = False\n",
    "# osc.view_enabled_ch[2] = True\n",
    "# osc.view_enabled_ch[3] = False"
   ]
  },
  {
   "cell_type": "markdown",
   "metadata": {},
   "source": [
    "## オシロの終了\n",
    "\n",
    "終了後に再度実行するには、**「オシロのセットアップ」からやり直してください**。\n",
    "また、PC シミュレータを使う場合は、「PC シミュレータの起動」からやり直してください。"
   ]
  },
  {
   "cell_type": "code",
   "execution_count": null,
   "metadata": {},
   "outputs": [],
   "source": [
    "osc.close()"
   ]
  }
 ],
 "metadata": {
  "kernelspec": {
   "display_name": "oscillodsp-3.8.5",
   "language": "python",
   "name": "oscillodsp-3.8.5"
  },
  "language_info": {
   "codemirror_mode": {
    "name": "ipython",
    "version": 3
   },
   "file_extension": ".py",
   "mimetype": "text/x-python",
   "name": "python",
   "nbconvert_exporter": "python",
   "pygments_lexer": "ipython3",
   "version": "3.8.5"
  },
  "toc": {
   "base_numbering": 1,
   "nav_menu": {},
   "number_sections": true,
   "sideBar": true,
   "skip_h1_title": false,
   "title_cell": "Table of Contents",
   "title_sidebar": "Contents",
   "toc_cell": false,
   "toc_position": {},
   "toc_section_display": true,
   "toc_window_display": false
  }
 },
 "nbformat": 4,
 "nbformat_minor": 2
}

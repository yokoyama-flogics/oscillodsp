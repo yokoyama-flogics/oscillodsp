{
 "cells": [
  {
   "cell_type": "markdown",
   "metadata": {},
   "source": [
    "# OscilloDSP\n",
    "\n",
    "Copyright (c) 2020, 2021, Chubu University and Firmlogics\n",
    "\n",
    "All rights reserved.\n",
    "\n",
    "## Documentation\n",
    "\n",
    "For [Installation Guide](installation_en.ipynb) and [Usage Instructions](usage_en.ipynb), please refer to each link.\n",
    "For instructions on how to run the demo app with TI Code Composer Studio, refer to [this guide](ccs_build_en.ipynb).\n",
    "\n",
    "## Notes\n",
    "\n",
    "- If the graph is not displayed properly, restarting Jupyter Notebook may resolve the issue."
   ]
  },
  {
   "cell_type": "markdown",
   "metadata": {},
   "source": [
    "## Stop Auto-scrolling in Jupyter Cells\n",
    "\n",
    "Reference: https://stackoverflow.com/questions/36757301/disable-ipython-notebook-autoscrolling"
   ]
  },
  {
   "cell_type": "code",
   "execution_count": null,
   "metadata": {},
   "outputs": [],
   "source": [
    "%%javascript\n",
    "IPython.OutputArea.prototype._should_scroll = function(lines) {\n",
    "    return false;\n",
    "}"
   ]
  },
  {
   "cell_type": "markdown",
   "metadata": {},
   "source": [
    "## Load OscilloDSP Module and Define Constants\n",
    "\n",
    "- ```UART_DEVICE```: UART device name\n",
    "- ```UART_BITRATE```: UART communication speed\n",
    "\n",
    "You can simulate the DSP functionality on a PC without connecting to an actual DSP board.\n",
    "If you want to use this feature, set the ```USE_PCSIM``` option to ```True``` below.\n",
    "This feature has been tested on Linux and Mac OS.\n",
    "\n",
    "When ```USE_PCSIM``` is set to ```True```, ```UART_DEVICE``` and ```UART_BITRATE``` will be overridden in the Python code under the section 'Start PC Simulator' below."
   ]
  },
  {
   "cell_type": "code",
   "execution_count": null,
   "metadata": {
    "scrolled": false
   },
   "outputs": [],
   "source": [
    "%matplotlib widget\n",
    "from oscillodsp import oscillo\n",
    "from oscillodsp import utils\n",
    "\n",
    "USE_PCSIM = False  # When using DSP simulator on PC (Linux only)\n",
    "\n",
    "# UART_DEVICE = \"ftdi://ftdi:0xa6d0:TIU72PWC/2\"  # Linux\n",
    "# UART_DEVICE = \"ftdi://ftdi:0xa6d0:TIU72PWC/2\"  # Mac OS\n",
    "# UART_DEVICE = \"ftdi://ftdi:232:FTGYDM6A/1\"  # Mac OS (TTL232R-3V3)\n",
    "UART_DEVICE = \"ftdi://ftdi:0xa6d0:TIU72PWC/2\"  # Windows\n",
    "\n",
    "UART_BITRATE = 2000000\n",
    "# UART_BITRATE = 115200"
   ]
  },
  {
   "cell_type": "markdown",
   "metadata": {},
   "source": [
    "## Version Check\n",
    "\n",
    "For versions that have been verified to work, refer to [this guide](checked_versions_en.ipynb)."
   ]
  },
  {
   "cell_type": "code",
   "execution_count": null,
   "metadata": {},
   "outputs": [],
   "source": [
    "oscillo.show_module_versions([\n",
    "    \"notebook\",\n",
    "    \"matplotlib\",\n",
    "    \"ipywidgets\",\n",
    "    \"ipympl\",\n",
    "    \"serial\",\n",
    "    \"pyftdi\",\n",
    "])"
   ]
  },
  {
   "cell_type": "markdown",
   "metadata": {},
   "source": [
    "## Start PC Simulator"
   ]
  },
  {
   "cell_type": "code",
   "execution_count": null,
   "metadata": {},
   "outputs": [],
   "source": [
    "if USE_PCSIM:\n",
    "    UART_DEVICE = utils.run_pcsim(\"../pcsim/pcsim\")\n",
    "    UART_BITRATE = 115200\n",
    "    \n",
    "# When you need debug pcsim by GDB, run pcsim separately, and run below.\n",
    "# UART_DEVICE = open(\"../pcsim/ptyname.txt\").read()\n",
    "# UART_BITRATE = 115200"
   ]
  },
  {
   "cell_type": "markdown",
   "metadata": {},
   "source": [
    "## Setup Oscilloscope\n",
    "\n",
    "- You can set the log display level with ```loglevel``` and ```dsp_loglevel```.\n",
    "  Logs are displayed in the shell (cmd.exe on Windows) where Jupyter was started.\n",
    "  For information on logging levels, refer to [here](https://docs.python.org/3/library/logging.html#logging-levels)."
   ]
  },
  {
   "cell_type": "code",
   "execution_count": null,
   "metadata": {},
   "outputs": [],
   "source": [
    "import logging\n",
    "\n",
    "osc = oscillo.Oscillo(\n",
    "    dsp_tty=UART_DEVICE,\n",
    "    dsp_bitrate=UART_BITRATE,\n",
    "    quantize_bits=8,  # reduced for smaller traffic from DSP\n",
    "    loglevel=logging.INFO,\n",
    "    dsp_loglevel=logging.INFO)\n",
    "\n",
    "osc  # Need to evaluate 'osc' here.  Otherwise, screen doesn't show up"
   ]
  },
  {
   "cell_type": "markdown",
   "metadata": {},
   "source": [
    "## Start Oscilloscope\n",
    "\n",
    "To start the oscilloscope for the first time, run the following function."
   ]
  },
  {
   "cell_type": "code",
   "execution_count": null,
   "metadata": {},
   "outputs": [],
   "source": [
    "osc.start()"
   ]
  },
  {
   "cell_type": "markdown",
   "metadata": {},
   "source": [
    "## Toggle Channel Display"
   ]
  },
  {
   "cell_type": "code",
   "execution_count": null,
   "metadata": {},
   "outputs": [],
   "source": [
    "osc.view_enabled_ch[0] = True\n",
    "osc.view_enabled_ch[1] = False\n",
    "# osc.view_enabled_ch[2] = True\n",
    "# osc.view_enabled_ch[3] = False"
   ]
  },
  {
   "cell_type": "markdown",
   "metadata": {},
   "source": [
    "## Stop Oscilloscope\n",
    "\n",
    "To restart after stopping, **start from the 'Setup Oscilloscope' section again**.\n",
    "Also, if you are using the PC simulator, start again from the 'Start PC Simulator' section."
   ]
  },
  {
   "cell_type": "code",
   "execution_count": null,
   "metadata": {},
   "outputs": [],
   "source": [
    "osc.close()"
   ]
  }
 ],
 "metadata": {
  "kernelspec": {
   "display_name": "oscillodsp-3.8.5",
   "language": "python",
   "name": "oscillodsp-3.8.5"
  },
  "language_info": {
   "codemirror_mode": {
    "name": "ipython",
    "version": 3
   },
   "file_extension": ".py",
   "mimetype": "text/x-python",
   "name": "python",
   "nbconvert_exporter": "python",
   "pygments_lexer": "ipython3",
   "version": "3.8.5"
  },
  "toc": {
   "base_numbering": 1,
   "nav_menu": {},
   "number_sections": true,
   "sideBar": true,
   "skip_h1_title": false,
   "title_cell": "Table of Contents",
   "title_sidebar": "Contents",
   "toc_cell": false,
   "toc_position": {},
   "toc_section_display": true,
   "toc_window_display": false
  }
 },
 "nbformat": 4,
 "nbformat_minor": 2
}

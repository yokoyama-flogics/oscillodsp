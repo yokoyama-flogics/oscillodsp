{
 "cells": [
  {
   "cell_type": "markdown",
   "metadata": {},
   "source": [
    "# 確認済みバージョン\n",
    "\n",
    "## Linux\n",
    "\n",
    "- Python 3.8.5\n",
    "- notebook 6.0.3\n",
    "- matplotlib 3.1.3 （3.3.0 は plt.savefig() がうまくいかない）\n",
    "- ipywidgets 7.5.1\n",
    "- ipympl 0.4.1, 0.5.7\n",
    "- pyserial 3.4\n",
    "- pyftdi 0.50.0, 0.51.2\n",
    "\n",
    "なお、以下のセルを実行すると、バージョンが確認できます。\n",
    "\n",
    "## Windows\n",
    "\n",
    "Windows 7 にて、EVM 上の FT2232 を使用し、以下のバージョンで、2Mbps 通信を確認済みです。\n",
    "\n",
    "- Python version: 3.8.5 (tags/v3.8.5:580fbb0, Jul 20 2020, 15:57:54) [MSC v.1924 64 bit (AMD64)]\n",
    "- notebook: 6.0.3\n",
    "- matplotlib: 3.1.3\n",
    "- ipywidgets: 7.5.1\n",
    "- ipympl: 0.4.1\n",
    "- serial: 3.4\n",
    "- pyftdi: 0.51.2\n",
    "\n",
    "ドライバ: libusb-win32 1.2.6.0 (8/2/2012)"
   ]
  }
 ],
 "metadata": {
  "kernelspec": {
   "display_name": "Python 3",
   "language": "python",
   "name": "python3"
  },
  "language_info": {
   "codemirror_mode": {
    "name": "ipython",
    "version": 3
   },
   "file_extension": ".py",
   "mimetype": "text/x-python",
   "name": "python",
   "nbconvert_exporter": "python",
   "pygments_lexer": "ipython3",
   "version": "3.8.5"
  }
 },
 "nbformat": 4,
 "nbformat_minor": 4
}
